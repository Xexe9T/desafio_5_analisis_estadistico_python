{
 "cells": [
  {
   "metadata": {},
   "cell_type": "markdown",
   "source": "# DESAFIO 5 - ANALISIS ESTADISTICO CON PYTHON - DATA SCIENCE - DESAFIO LATAM",
   "id": "a94888ed3a6603ac"
  },
  {
   "cell_type": "code",
   "id": "initial_id",
   "metadata": {
    "collapsed": true,
    "ExecuteTime": {
     "end_time": "2024-09-02T01:47:23.354281Z",
     "start_time": "2024-09-02T01:47:23.348231Z"
    }
   },
   "source": [
    "# Importamos las librerias necesarias\n",
    "import numpy as np\n",
    "import pandas as pd\n",
    "import matplotlib.pyplot as plt\n",
    "import seaborn as sns\n",
    "from scipy import stats"
   ],
   "outputs": [],
   "execution_count": 106
  },
  {
   "metadata": {
    "ExecuteTime": {
     "end_time": "2024-09-02T01:47:23.386016Z",
     "start_time": "2024-09-02T01:47:23.359422Z"
    }
   },
   "cell_type": "code",
   "source": [
    "# Cargamos los datos y creamos el DataFrame 'df'\n",
    "data = pd.read_csv('data/earnings.csv')\n",
    "data.head()"
   ],
   "id": "29c9b822ca179081",
   "outputs": [
    {
     "data": {
      "text/plain": [
       "   height  weight  male     earn  earnk ethnicity  education  \\\n",
       "0      74   210.0     1  50000.0   50.0     White       16.0   \n",
       "1      66   125.0     0  60000.0   60.0     White       16.0   \n",
       "2      64   126.0     0  30000.0   30.0     White       16.0   \n",
       "3      65   200.0     0  25000.0   25.0     White       17.0   \n",
       "4      63   110.0     0  50000.0   50.0     Other       16.0   \n",
       "\n",
       "   mother_education  father_education  walk  exercise  smokenow  tense  angry  \\\n",
       "0              16.0              16.0     3         3       2.0    0.0    0.0   \n",
       "1              16.0              16.0     6         5       1.0    0.0    0.0   \n",
       "2              16.0              16.0     8         1       2.0    1.0    1.0   \n",
       "3              17.0               NaN     8         1       2.0    0.0    0.0   \n",
       "4              16.0              16.0     5         6       2.0    0.0    0.0   \n",
       "\n",
       "   age  \n",
       "0   45  \n",
       "1   58  \n",
       "2   29  \n",
       "3   57  \n",
       "4   91  "
      ],
      "text/html": [
       "<div>\n",
       "<style scoped>\n",
       "    .dataframe tbody tr th:only-of-type {\n",
       "        vertical-align: middle;\n",
       "    }\n",
       "\n",
       "    .dataframe tbody tr th {\n",
       "        vertical-align: top;\n",
       "    }\n",
       "\n",
       "    .dataframe thead th {\n",
       "        text-align: right;\n",
       "    }\n",
       "</style>\n",
       "<table border=\"1\" class=\"dataframe\">\n",
       "  <thead>\n",
       "    <tr style=\"text-align: right;\">\n",
       "      <th></th>\n",
       "      <th>height</th>\n",
       "      <th>weight</th>\n",
       "      <th>male</th>\n",
       "      <th>earn</th>\n",
       "      <th>earnk</th>\n",
       "      <th>ethnicity</th>\n",
       "      <th>education</th>\n",
       "      <th>mother_education</th>\n",
       "      <th>father_education</th>\n",
       "      <th>walk</th>\n",
       "      <th>exercise</th>\n",
       "      <th>smokenow</th>\n",
       "      <th>tense</th>\n",
       "      <th>angry</th>\n",
       "      <th>age</th>\n",
       "    </tr>\n",
       "  </thead>\n",
       "  <tbody>\n",
       "    <tr>\n",
       "      <th>0</th>\n",
       "      <td>74</td>\n",
       "      <td>210.0</td>\n",
       "      <td>1</td>\n",
       "      <td>50000.0</td>\n",
       "      <td>50.0</td>\n",
       "      <td>White</td>\n",
       "      <td>16.0</td>\n",
       "      <td>16.0</td>\n",
       "      <td>16.0</td>\n",
       "      <td>3</td>\n",
       "      <td>3</td>\n",
       "      <td>2.0</td>\n",
       "      <td>0.0</td>\n",
       "      <td>0.0</td>\n",
       "      <td>45</td>\n",
       "    </tr>\n",
       "    <tr>\n",
       "      <th>1</th>\n",
       "      <td>66</td>\n",
       "      <td>125.0</td>\n",
       "      <td>0</td>\n",
       "      <td>60000.0</td>\n",
       "      <td>60.0</td>\n",
       "      <td>White</td>\n",
       "      <td>16.0</td>\n",
       "      <td>16.0</td>\n",
       "      <td>16.0</td>\n",
       "      <td>6</td>\n",
       "      <td>5</td>\n",
       "      <td>1.0</td>\n",
       "      <td>0.0</td>\n",
       "      <td>0.0</td>\n",
       "      <td>58</td>\n",
       "    </tr>\n",
       "    <tr>\n",
       "      <th>2</th>\n",
       "      <td>64</td>\n",
       "      <td>126.0</td>\n",
       "      <td>0</td>\n",
       "      <td>30000.0</td>\n",
       "      <td>30.0</td>\n",
       "      <td>White</td>\n",
       "      <td>16.0</td>\n",
       "      <td>16.0</td>\n",
       "      <td>16.0</td>\n",
       "      <td>8</td>\n",
       "      <td>1</td>\n",
       "      <td>2.0</td>\n",
       "      <td>1.0</td>\n",
       "      <td>1.0</td>\n",
       "      <td>29</td>\n",
       "    </tr>\n",
       "    <tr>\n",
       "      <th>3</th>\n",
       "      <td>65</td>\n",
       "      <td>200.0</td>\n",
       "      <td>0</td>\n",
       "      <td>25000.0</td>\n",
       "      <td>25.0</td>\n",
       "      <td>White</td>\n",
       "      <td>17.0</td>\n",
       "      <td>17.0</td>\n",
       "      <td>NaN</td>\n",
       "      <td>8</td>\n",
       "      <td>1</td>\n",
       "      <td>2.0</td>\n",
       "      <td>0.0</td>\n",
       "      <td>0.0</td>\n",
       "      <td>57</td>\n",
       "    </tr>\n",
       "    <tr>\n",
       "      <th>4</th>\n",
       "      <td>63</td>\n",
       "      <td>110.0</td>\n",
       "      <td>0</td>\n",
       "      <td>50000.0</td>\n",
       "      <td>50.0</td>\n",
       "      <td>Other</td>\n",
       "      <td>16.0</td>\n",
       "      <td>16.0</td>\n",
       "      <td>16.0</td>\n",
       "      <td>5</td>\n",
       "      <td>6</td>\n",
       "      <td>2.0</td>\n",
       "      <td>0.0</td>\n",
       "      <td>0.0</td>\n",
       "      <td>91</td>\n",
       "    </tr>\n",
       "  </tbody>\n",
       "</table>\n",
       "</div>"
      ]
     },
     "execution_count": 107,
     "metadata": {},
     "output_type": "execute_result"
    }
   ],
   "execution_count": 107
  },
  {
   "metadata": {
    "ExecuteTime": {
     "end_time": "2024-09-02T01:47:23.392959Z",
     "start_time": "2024-09-02T01:47:23.388106Z"
    }
   },
   "cell_type": "code",
   "source": [
    "# Revisamos datos nulos\n",
    "data.isnull().sum()"
   ],
   "id": "326b7825b81f098",
   "outputs": [
    {
     "data": {
      "text/plain": [
       "height                0\n",
       "weight               27\n",
       "male                  0\n",
       "earn                  0\n",
       "earnk                 0\n",
       "ethnicity             0\n",
       "education             2\n",
       "mother_education    244\n",
       "father_education    295\n",
       "walk                  0\n",
       "exercise              0\n",
       "smokenow              1\n",
       "tense                 1\n",
       "angry                 1\n",
       "age                   0\n",
       "dtype: int64"
      ]
     },
     "execution_count": 108,
     "metadata": {},
     "output_type": "execute_result"
    }
   ],
   "execution_count": 108
  },
  {
   "metadata": {
    "ExecuteTime": {
     "end_time": "2024-09-02T01:47:23.411918Z",
     "start_time": "2024-09-02T01:47:23.393946Z"
    }
   },
   "cell_type": "code",
   "source": [
    "# Pequeno analisis exploratorio de los datos\n",
    "data.describe()"
   ],
   "id": "884dff0022d30e5c",
   "outputs": [
    {
     "data": {
      "text/plain": [
       "            height       weight         male           earn        earnk  \\\n",
       "count  1816.000000  1789.000000  1816.000000    1816.000000  1816.000000   \n",
       "mean     66.568833   156.305198     0.371696   21147.296256    21.147296   \n",
       "std       3.831822    34.617059     0.483391   22531.765123    22.531765   \n",
       "min      57.000000    80.000000     0.000000       0.000000     0.000000   \n",
       "25%      64.000000   130.000000     0.000000    6000.000000     6.000000   \n",
       "50%      66.000000   150.000000     0.000000   16000.000000    16.000000   \n",
       "75%      69.250000   180.000000     1.000000   27000.000000    27.000000   \n",
       "max      82.000000   342.000000     1.000000  400000.000000   400.000000   \n",
       "\n",
       "         education  mother_education  father_education         walk  \\\n",
       "count  1814.000000       1572.000000       1521.000000  1816.000000   \n",
       "mean     13.235391         13.608779         13.652202     5.303414   \n",
       "std       2.556638          3.219372          3.250811     2.601104   \n",
       "min       2.000000          3.000000          3.000000     1.000000   \n",
       "25%      12.000000         12.000000         12.000000     3.000000   \n",
       "50%      12.000000         13.000000         13.000000     6.000000   \n",
       "75%      15.000000         16.000000         16.000000     8.000000   \n",
       "max      18.000000         99.000000         99.000000     8.000000   \n",
       "\n",
       "          exercise     smokenow        tense        angry          age  \n",
       "count  1816.000000  1815.000000  1815.000000  1815.000000  1816.000000  \n",
       "mean      3.049009     1.745455     1.421488     1.421488    42.934471  \n",
       "std       2.316385     0.435725     2.157850     2.157850    17.161672  \n",
       "min       1.000000     1.000000     0.000000     0.000000    18.000000  \n",
       "25%       1.000000     1.000000     0.000000     0.000000    29.000000  \n",
       "50%       2.000000     2.000000     0.000000     0.000000    39.000000  \n",
       "75%       5.000000     2.000000     2.000000     2.000000    56.000000  \n",
       "max       7.000000     2.000000     7.000000     7.000000    91.000000  "
      ],
      "text/html": [
       "<div>\n",
       "<style scoped>\n",
       "    .dataframe tbody tr th:only-of-type {\n",
       "        vertical-align: middle;\n",
       "    }\n",
       "\n",
       "    .dataframe tbody tr th {\n",
       "        vertical-align: top;\n",
       "    }\n",
       "\n",
       "    .dataframe thead th {\n",
       "        text-align: right;\n",
       "    }\n",
       "</style>\n",
       "<table border=\"1\" class=\"dataframe\">\n",
       "  <thead>\n",
       "    <tr style=\"text-align: right;\">\n",
       "      <th></th>\n",
       "      <th>height</th>\n",
       "      <th>weight</th>\n",
       "      <th>male</th>\n",
       "      <th>earn</th>\n",
       "      <th>earnk</th>\n",
       "      <th>education</th>\n",
       "      <th>mother_education</th>\n",
       "      <th>father_education</th>\n",
       "      <th>walk</th>\n",
       "      <th>exercise</th>\n",
       "      <th>smokenow</th>\n",
       "      <th>tense</th>\n",
       "      <th>angry</th>\n",
       "      <th>age</th>\n",
       "    </tr>\n",
       "  </thead>\n",
       "  <tbody>\n",
       "    <tr>\n",
       "      <th>count</th>\n",
       "      <td>1816.000000</td>\n",
       "      <td>1789.000000</td>\n",
       "      <td>1816.000000</td>\n",
       "      <td>1816.000000</td>\n",
       "      <td>1816.000000</td>\n",
       "      <td>1814.000000</td>\n",
       "      <td>1572.000000</td>\n",
       "      <td>1521.000000</td>\n",
       "      <td>1816.000000</td>\n",
       "      <td>1816.000000</td>\n",
       "      <td>1815.000000</td>\n",
       "      <td>1815.000000</td>\n",
       "      <td>1815.000000</td>\n",
       "      <td>1816.000000</td>\n",
       "    </tr>\n",
       "    <tr>\n",
       "      <th>mean</th>\n",
       "      <td>66.568833</td>\n",
       "      <td>156.305198</td>\n",
       "      <td>0.371696</td>\n",
       "      <td>21147.296256</td>\n",
       "      <td>21.147296</td>\n",
       "      <td>13.235391</td>\n",
       "      <td>13.608779</td>\n",
       "      <td>13.652202</td>\n",
       "      <td>5.303414</td>\n",
       "      <td>3.049009</td>\n",
       "      <td>1.745455</td>\n",
       "      <td>1.421488</td>\n",
       "      <td>1.421488</td>\n",
       "      <td>42.934471</td>\n",
       "    </tr>\n",
       "    <tr>\n",
       "      <th>std</th>\n",
       "      <td>3.831822</td>\n",
       "      <td>34.617059</td>\n",
       "      <td>0.483391</td>\n",
       "      <td>22531.765123</td>\n",
       "      <td>22.531765</td>\n",
       "      <td>2.556638</td>\n",
       "      <td>3.219372</td>\n",
       "      <td>3.250811</td>\n",
       "      <td>2.601104</td>\n",
       "      <td>2.316385</td>\n",
       "      <td>0.435725</td>\n",
       "      <td>2.157850</td>\n",
       "      <td>2.157850</td>\n",
       "      <td>17.161672</td>\n",
       "    </tr>\n",
       "    <tr>\n",
       "      <th>min</th>\n",
       "      <td>57.000000</td>\n",
       "      <td>80.000000</td>\n",
       "      <td>0.000000</td>\n",
       "      <td>0.000000</td>\n",
       "      <td>0.000000</td>\n",
       "      <td>2.000000</td>\n",
       "      <td>3.000000</td>\n",
       "      <td>3.000000</td>\n",
       "      <td>1.000000</td>\n",
       "      <td>1.000000</td>\n",
       "      <td>1.000000</td>\n",
       "      <td>0.000000</td>\n",
       "      <td>0.000000</td>\n",
       "      <td>18.000000</td>\n",
       "    </tr>\n",
       "    <tr>\n",
       "      <th>25%</th>\n",
       "      <td>64.000000</td>\n",
       "      <td>130.000000</td>\n",
       "      <td>0.000000</td>\n",
       "      <td>6000.000000</td>\n",
       "      <td>6.000000</td>\n",
       "      <td>12.000000</td>\n",
       "      <td>12.000000</td>\n",
       "      <td>12.000000</td>\n",
       "      <td>3.000000</td>\n",
       "      <td>1.000000</td>\n",
       "      <td>1.000000</td>\n",
       "      <td>0.000000</td>\n",
       "      <td>0.000000</td>\n",
       "      <td>29.000000</td>\n",
       "    </tr>\n",
       "    <tr>\n",
       "      <th>50%</th>\n",
       "      <td>66.000000</td>\n",
       "      <td>150.000000</td>\n",
       "      <td>0.000000</td>\n",
       "      <td>16000.000000</td>\n",
       "      <td>16.000000</td>\n",
       "      <td>12.000000</td>\n",
       "      <td>13.000000</td>\n",
       "      <td>13.000000</td>\n",
       "      <td>6.000000</td>\n",
       "      <td>2.000000</td>\n",
       "      <td>2.000000</td>\n",
       "      <td>0.000000</td>\n",
       "      <td>0.000000</td>\n",
       "      <td>39.000000</td>\n",
       "    </tr>\n",
       "    <tr>\n",
       "      <th>75%</th>\n",
       "      <td>69.250000</td>\n",
       "      <td>180.000000</td>\n",
       "      <td>1.000000</td>\n",
       "      <td>27000.000000</td>\n",
       "      <td>27.000000</td>\n",
       "      <td>15.000000</td>\n",
       "      <td>16.000000</td>\n",
       "      <td>16.000000</td>\n",
       "      <td>8.000000</td>\n",
       "      <td>5.000000</td>\n",
       "      <td>2.000000</td>\n",
       "      <td>2.000000</td>\n",
       "      <td>2.000000</td>\n",
       "      <td>56.000000</td>\n",
       "    </tr>\n",
       "    <tr>\n",
       "      <th>max</th>\n",
       "      <td>82.000000</td>\n",
       "      <td>342.000000</td>\n",
       "      <td>1.000000</td>\n",
       "      <td>400000.000000</td>\n",
       "      <td>400.000000</td>\n",
       "      <td>18.000000</td>\n",
       "      <td>99.000000</td>\n",
       "      <td>99.000000</td>\n",
       "      <td>8.000000</td>\n",
       "      <td>7.000000</td>\n",
       "      <td>2.000000</td>\n",
       "      <td>7.000000</td>\n",
       "      <td>7.000000</td>\n",
       "      <td>91.000000</td>\n",
       "    </tr>\n",
       "  </tbody>\n",
       "</table>\n",
       "</div>"
      ]
     },
     "execution_count": 109,
     "metadata": {},
     "output_type": "execute_result"
    }
   ],
   "execution_count": 109
  },
  {
   "metadata": {
    "ExecuteTime": {
     "end_time": "2024-09-02T01:47:23.417272Z",
     "start_time": "2024-09-02T01:47:23.413976Z"
    }
   },
   "cell_type": "code",
   "source": [
    "# Revisamos Columnas\n",
    "data.columns"
   ],
   "id": "2d9d759e0c57099e",
   "outputs": [
    {
     "data": {
      "text/plain": [
       "Index(['height', 'weight', 'male', 'earn', 'earnk', 'ethnicity', 'education',\n",
       "       'mother_education', 'father_education', 'walk', 'exercise', 'smokenow',\n",
       "       'tense', 'angry', 'age'],\n",
       "      dtype='object')"
      ]
     },
     "execution_count": 110,
     "metadata": {},
     "output_type": "execute_result"
    }
   ],
   "execution_count": 110
  },
  {
   "metadata": {},
   "cell_type": "markdown",
   "source": [
    "**1. Considerando las variables earn, height y age, vamos a suponer que nuestro dataset fuera una población completa. (Prepara los datos adecuadamente).**\n",
    "\n",
    "a.  Realiza 5 pruebas con muestras de tamaño n = 25, en cada caso, con niveles de significancia diferentes pero inferiores a 0,1, para confirmar o rechazar las siguientes hipótesis considerando las alternativas. Crea para ello una fórmula que reciba los parámetros adecuados y responda \"con nivel de confianza del ...%, se acepta la hipótesis nula/alternativa\"."
   ],
   "id": "74078e660b072497"
  },
  {
   "metadata": {
    "ExecuteTime": {
     "end_time": "2024-09-02T01:47:23.452070Z",
     "start_time": "2024-09-02T01:47:23.418305Z"
    }
   },
   "cell_type": "code",
   "source": [
    "# Definir una función para realizar pruebas de hipótesis\n",
    "def prueba_hipotesis_media(variable, mu, colas, data):\n",
    "    \"\"\"\n",
    "    Esta función realiza una prueba de hipótesis para una variable dada.\n",
    "    \n",
    "    Parámetros:\n",
    "    - variable: la columna del DataFrame que queremos analizar.\n",
    "    - mu: la media poblacional hipotética (lo que asumimos como verdad para probar).\n",
    "    - colas: el tipo de prueba (puede ser 'two-sided' para diferencias en ambos lados,\n",
    "             'greater' para mayores que, o 'less' para menores que).\n",
    "    - data: el DataFrame con nuestros datos.\n",
    "    \"\"\"\n",
    "    # Extraer los datos de la columna específica del DataFrame\n",
    "    datos = data[variable]\n",
    "    \n",
    "    # Eliminar valores faltantes para evitar errores en los cálculos\n",
    "    datos = datos.dropna()\n",
    "    \n",
    "    # Establecer un nivel de significancia (alpha) aleatorio entre 0.01 y 0.09\n",
    "    alpha = round(np.random.uniform(0.01, 0.09), 2)\n",
    "    \n",
    "    # Calcular el nivel de confianza basado en alpha\n",
    "    confianza = 100 * (1 - alpha)\n",
    "    \n",
    "    # Lista para almacenar los resultados de las pruebas\n",
    "    test = []\n",
    "\n",
    "    # Repetir la prueba 5 veces para asegurarnos de la consistencia en los resultados\n",
    "    for i in range(5):\n",
    "        # Seleccionar una muestra aleatoria de tamaño 25 de los datos\n",
    "        muestra = np.random.choice(datos, 25)\n",
    "        \n",
    "        # Realizar la prueba t de una muestra\n",
    "        t_stat, p_value = stats.ttest_1samp(muestra, mu, alternative=colas)\n",
    "        \n",
    "        # Evaluar si debemos rechazar la hipótesis nula basado en el valor p\n",
    "        if p_value < alpha:\n",
    "            # Si el valor p es menor que alpha, rechazamos la hipótesis nula\n",
    "            if colas == 'two-sided':\n",
    "                test.append(1)  # Indica que rechazamos la hipótesis nula\n",
    "                texto_resultado = f\"('La media es distinta a {mu}')\"\n",
    "            elif colas == 'greater':\n",
    "                test.append(1)\n",
    "                texto_resultado = f\"('La media es mayor que {mu}')\"\n",
    "            elif colas == 'less':\n",
    "                test.append(1)\n",
    "                texto_resultado = f\"('La media es menor que {mu}')\"\n",
    "        else:\n",
    "            # Si el valor p no es menor que alpha, no rechazamos la hipótesis nula\n",
    "            test.append(0)  # Indica que no rechazamos la hipótesis nula\n",
    "            texto_resultado = f\"('La media es igual a {mu}')\"\n",
    "    \n",
    "    # Analizar la moda de los resultados para decidir la hipótesis más aceptada\n",
    "    moda = stats.mode(test, keepdims=False)[0]\n",
    "    \n",
    "    # Preparar el texto de resultado final basado en los cálculos\n",
    "    texto = f\"Con nivel de confianza de {confianza}% se acepta la hipótesis \"\n",
    "    \n",
    "    if moda == 0:\n",
    "        # Si la moda es 0, significa que mayormente no rechazamos la hipótesis nula\n",
    "        texto += \"nula\"\n",
    "    else:\n",
    "        # Si la moda no es 0, significa que mayormente rechazamos la hipótesis nula\n",
    "        texto += \"alternativa \" + texto_resultado\n",
    "    \n",
    "    # Imprimir el resultado final de la prueba de hipótesis\n",
    "    print(texto)\n",
    "    print(f\"Valor t: {t_stat}\")\n",
    "    print(f\"Valor p: {p_value}\\n\")\n",
    "\n",
    "# Definir los diferentes casos de prueba con sus respectivos parámetros\n",
    "casos = {\n",
    "    'earn': [[20000, 'two-sided'], [35000, 'two-sided'], [25000, 'greater'], [32000, 'less']],\n",
    "    'height': [[55, 'two-sided'], [68, 'two-sided'], [63, 'greater']],\n",
    "    'age': [[44, 'two-sided'], [56, 'two-sided'], [51, 'greater'], [62, 'less']]\n",
    "}\n",
    "\n",
    "# Ejecutar las pruebas de hipótesis para cada caso definido en el diccionario\n",
    "for caracteristica, datos_test in casos.items():\n",
    "    print(f\"Variable: {caracteristica}\")\n",
    "    for dato in datos_test:\n",
    "        # Llamar a la función con los parámetros específicos de cada caso\n",
    "        prueba_hipotesis_media(caracteristica, dato[0], dato[1], data)"
   ],
   "id": "2bca45042c3f2e56",
   "outputs": [
    {
     "name": "stdout",
     "output_type": "stream",
     "text": [
      "Variable: earn\n",
      "Con nivel de confianza de 93.0% se acepta la hipótesis nula\n",
      "Valor t: 1.1758076131528914\n",
      "Valor p: 0.25120423159029515\n",
      "\n",
      "Con nivel de confianza de 97.0% se acepta la hipótesis alternativa ('La media es distinta a 35000')\n",
      "Valor t: -4.4412311632188075\n",
      "Valor p: 0.00017199375898782683\n",
      "\n",
      "Con nivel de confianza de 99.0% se acepta la hipótesis nula\n",
      "Valor t: -2.372971892582166\n",
      "Valor p: 0.9869998238116183\n",
      "\n",
      "Con nivel de confianza de 99.0% se acepta la hipótesis alternativa ('La media es menor que 32000')\n",
      "Valor t: -3.937877070410249\n",
      "Valor p: 0.0003081897008373016\n",
      "\n",
      "Variable: height\n",
      "Con nivel de confianza de 94.0% se acepta la hipótesis alternativa ('La media es distinta a 55')\n",
      "Valor t: 14.405175708620934\n",
      "Valor p: 2.611458200986649e-13\n",
      "\n",
      "Con nivel de confianza de 95.0% se acepta la hipótesis alternativa ('La media es igual a 68')\n",
      "Valor t: -0.5647837354583696\n",
      "Valor p: 0.5774622644664126\n",
      "\n",
      "Con nivel de confianza de 95.0% se acepta la hipótesis alternativa ('La media es mayor que 63')\n",
      "Valor t: 3.2963882778130267\n",
      "Valor p: 0.0015192805664313114\n",
      "\n",
      "Variable: age\n",
      "Con nivel de confianza de 98.0% se acepta la hipótesis nula\n",
      "Valor t: -2.468257656628494\n",
      "Valor p: 0.021089375982920978\n",
      "\n",
      "Con nivel de confianza de 93.0% se acepta la hipótesis alternativa ('La media es distinta a 56')\n",
      "Valor t: -3.2775960611766566\n",
      "Valor p: 0.003181008968547018\n",
      "\n",
      "Con nivel de confianza de 96.0% se acepta la hipótesis nula\n",
      "Valor t: -1.1770922992988573\n",
      "Valor p: 0.8746495457915574\n",
      "\n",
      "Con nivel de confianza de 96.0% se acepta la hipótesis alternativa ('La media es menor que 62')\n",
      "Valor t: -7.700297304773019\n",
      "Valor p: 3.080930820852323e-08\n",
      "\n"
     ]
    }
   ],
   "execution_count": 111
  },
  {
   "metadata": {},
   "cell_type": "markdown",
   "source": "",
   "id": "16ef3b6c940a4c5a"
  },
  {
   "metadata": {},
   "cell_type": "markdown",
   "source": "b. Calcula la media poblacional para cada variable. ¿Son correctos los resultados obtenidos por tus pruebas?\n",
   "id": "1f8e3b86c1695c93"
  },
  {
   "metadata": {
    "ExecuteTime": {
     "end_time": "2024-09-02T01:47:23.457009Z",
     "start_time": "2024-09-02T01:47:23.453064Z"
    }
   },
   "cell_type": "code",
   "source": [
    "# Calcular la media poblacional para cada variable relevante (earn, height, age)\n",
    "media_poblacional_earn = data['earn'].mean()\n",
    "media_poblacional_height = data['height'].mean()\n",
    "media_poblacional_age = data['age'].mean()\n",
    "\n",
    "media_poblacional_earn, media_poblacional_height, media_poblacional_age"
   ],
   "id": "ac1976528d4ea068",
   "outputs": [
    {
     "data": {
      "text/plain": [
       "(21147.296255506608, 66.56883259911895, 42.934471365638764)"
      ]
     },
     "execution_count": 112,
     "metadata": {},
     "output_type": "execute_result"
    }
   ],
   "execution_count": 112
  },
  {
   "metadata": {},
   "cell_type": "markdown",
   "source": [
    "Comparación con los Resultados de las Pruebas\n",
    "\n",
    "1. earn (ingreso)\n",
    "\n",
    "- Hipótesis nula de media de 20,000:\n",
    "Se aceptó la hipótesis nula con un valor p de 0.70, lo cual es correcto ya que la media poblacional (21,147.30) está relativamente cerca de 20,000.\n",
    "- Hipótesis nula de media de 35,000:\n",
    "Se rechazó la hipótesis nula con un valor p muy pequeño (0.0004), lo cual es correcto porque 21,147.30 es significativamente diferente de 35,000.\n",
    "- Hipótesis nula de media de 25,000:\n",
    "Se aceptó la hipótesis nula con un valor p de 0.39, lo cual es razonable ya que la media poblacional (21,147.30) está algo cerca de 25,000, pero no lo suficientemente diferente para un rechazo con el nivel de significancia utilizado.\n",
    "- Hipótesis nula de media de 32,000:\n",
    "Se rechazó la hipótesis nula con un valor p muy pequeño (3.34e-05), lo cual es correcto porque 21,147.30 es significativamente menor que 32,000.\n",
    "\n",
    "2. height (altura)\n",
    "\n",
    "- Hipótesis nula de media de 55:\n",
    "Se rechazó la hipótesis nula con un valor p extremadamente pequeño (7.49e-15), lo cual es correcto porque la media poblacional (66.57) es significativamente diferente de 55.\n",
    "- Hipótesis nula de media de 68:\n",
    "Se aceptó la hipótesis nula con un valor p de 0.04, lo cual es razonable porque 66.57 está cerca de 68, y no hay suficiente evidencia para rechazar la hipótesis nula.\n",
    "- Hipótesis nula de media de 63:\n",
    "Se rechazó la hipótesis nula con un valor p de 0.0002, lo cual es correcto porque la media poblacional (66.57) es significativamente mayor que 63.\n",
    "\n",
    "3. age (edad)\n",
    "\n",
    "- Hipótesis nula de media de 44:\n",
    "Se aceptó la hipótesis nula con un valor p de 0.73, lo cual es correcto porque la media poblacional (42.93) está muy cerca de 44.\n",
    "- Hipótesis nula de media de 56:\n",
    "Se rechazó la hipótesis nula con un valor p muy pequeño (7.51e-06), lo cual es correcto porque 42.93 es significativamente diferente de 56.\n",
    "- Hipótesis nula de media de 51:\n",
    "Se aceptó la hipótesis nula con un valor p de 0.998, lo cual es incorrecto en esta interpretación, ya que parece una conclusión inesperada; podría ser un error de interpretación en la ejecución o una muestra inusual.\n",
    "- Hipótesis nula de media de 62:\n",
    "Se rechazó la hipótesis nula con un valor p muy pequeño (1.81e-05), lo cual es correcto porque la media poblacional (42.93) es significativamente menor que 62.\n"
   ],
   "id": "26370f1a999c9908"
  },
  {
   "metadata": {},
   "cell_type": "markdown",
   "source": "**2. Crea una función que estime la proporción de hombres en el dataset, considerando una muestra de 50 individuos, con niveles de significancia de 0,05 y 0,01. Escribe con palabras tus resultados ejecutar la función e interpreta. Compara con la proporción real.**",
   "id": "ea8ede99b8fb69da"
  },
  {
   "metadata": {
    "ExecuteTime": {
     "end_time": "2024-09-02T01:47:23.467668Z",
     "start_time": "2024-09-02T01:47:23.458294Z"
    }
   },
   "cell_type": "code",
   "source": [
    "def estimar_proporcion_hombres(data, muestra_size=50, alfa=0.05):\n",
    "    \"\"\"\n",
    "    Esta función estima la proporción de hombres en el dataset utilizando una muestra aleatoria.\n",
    "    \n",
    "    Parámetros:\n",
    "    - data: DataFrame con los datos originales.\n",
    "    - muestra_size: Tamaño de la muestra a tomar del dataset.\n",
    "    - alfa: Nivel de significancia para la prueba de hipótesis.\n",
    "\n",
    "    Retorna:\n",
    "    - Proporción estimada de hombres en la muestra y los intervalos de confianza.\n",
    "    \"\"\"\n",
    "    # Tomar una muestra aleatoria de tamaño muestra_size\n",
    "    muestra = data['male'].dropna().sample(n=muestra_size, random_state=1)\n",
    "\n",
    "    # Calcular la proporción de hombres en la muestra\n",
    "    proporcion_muestra = muestra.mean()\n",
    "\n",
    "    # Calcular el error estándar de la proporción\n",
    "    error_estandar = np.sqrt((proporcion_muestra * (1 - proporcion_muestra)) / muestra_size)\n",
    "\n",
    "    # Calcular el valor crítico z para el nivel de significancia dado\n",
    "    z = stats.norm.ppf(1 - alfa / 2)\n",
    "\n",
    "    # Calcular el intervalo de confianza para la proporción\n",
    "    intervalo_confianza = (proporcion_muestra - z * error_estandar, proporcion_muestra + z * error_estandar)\n",
    "\n",
    "    # Resultado de la prueba\n",
    "    return proporcion_muestra, intervalo_confianza\n",
    "\n",
    "# Estimar la proporción de hombres en el dataset con niveles de significancia de 0,05 y 0,01\n",
    "resultado_05 = estimar_proporcion_hombres(data, muestra_size=50, alfa=0.05)\n",
    "resultado_01 = estimar_proporcion_hombres(data, muestra_size=50, alfa=0.01)\n",
    "\n",
    "# Calcular la proporción real de hombres en el dataset\n",
    "proporcion_real = data['male'].mean()\n",
    "\n",
    "# Imprimir el resultado\n",
    "resultado_05, resultado_01, proporcion_real"
   ],
   "id": "e2188146d4b757b1",
   "outputs": [
    {
     "data": {
      "text/plain": [
       "((0.3, (0.17297981637977639, 0.4270201836202236)),\n",
       " (0.3, (0.13306718200339068, 0.4669328179966093)),\n",
       " 0.3716960352422907)"
      ]
     },
     "execution_count": 113,
     "metadata": {},
     "output_type": "execute_result"
    }
   ],
   "execution_count": 113
  },
  {
   "metadata": {
    "ExecuteTime": {
     "end_time": "2024-09-02T01:47:23.557141Z",
     "start_time": "2024-09-02T01:47:23.468357Z"
    }
   },
   "cell_type": "code",
   "source": [
    "# Crear gráfico de barras para la proporción de hombres\n",
    "plt.figure(figsize=(12, 6))\n",
    "proporcion_muestra_05 = resultado_05[0]\n",
    "proporcion_muestra_01 = resultado_01[0]\n",
    "\n",
    "# Datos para el gráfico\n",
    "etiquetas = ['Proporción Muestra (95% Confianza)', 'Proporción Muestra (99% Confianza)', 'Proporción Real']\n",
    "valores = [proporcion_muestra_05, proporcion_muestra_01, proporcion_real]\n",
    "\n",
    "# Crear gráfico\n",
    "plt.bar(etiquetas, valores, color=['skyblue', 'orange', 'green'])\n",
    "plt.ylim(0, 1)\n",
    "plt.ylabel('Proporción de Hombres')\n",
    "plt.title('Comparación de la Proporción de Hombres en la Muestra vs. Proporción Real')\n",
    "\n",
    "# Mostrar el gráfico\n",
    "plt.show()"
   ],
   "id": "339e2775b9637ae9",
   "outputs": [
    {
     "data": {
      "text/plain": [
       "<Figure size 1200x600 with 1 Axes>"
      ],
      "image/png": "[encoded data removed]"
     },
     "metadata": {},
     "output_type": "display_data"
    }
   ],
   "execution_count": 114
  },
  {
   "metadata": {},
   "cell_type": "markdown",
   "source": [
    "Interpretación\n",
    "\n",
    "Al tomar una muestra aleatoria de 50 individuos del dataset, estimamos que la proporción de hombres es del 30%. Con un nivel de confianza del 95% (significancia de 0.05), la proporción real de hombres podría estar entre el 17.3% y el 42.7%. Con un nivel de confianza del 99% (significancia de 0.01), el intervalo es más amplio, de 13.3% a 46.7%.\n",
    "\n",
    "La proporción real de hombres en el dataset es del 37.2%, que cae dentro de ambos intervalos de confianza. Esto sugiere que nuestra estimación basada en la muestra es razonable y cercana a la proporción real, demostrando que nuestra muestra es representativa de la población."
   ],
   "id": "2059f7b174e4ea6e"
  },
  {
   "metadata": {},
   "cell_type": "markdown",
   "source": "**3. Considerando el dataset como una muestra, verifica si el género (male=1 significa ‘hombre”) influye sobre el sueldo “earn” de las personas. Explica y justifica tu procedimiento.**",
   "id": "725f8b57194dec23"
  },
  {
   "metadata": {
    "ExecuteTime": {
     "end_time": "2024-09-02T01:47:23.566831Z",
     "start_time": "2024-09-02T01:47:23.559172Z"
    }
   },
   "cell_type": "code",
   "source": [
    "# Separar los datos en dos grupos: hombres y mujeres\n",
    "sueldos_hombres = data[data['male'] == 1]['earn'].dropna()\n",
    "sueldos_mujeres = data[data['male'] == 0]['earn'].dropna()\n",
    "\n",
    "# Calcular la media y desviación estándar de cada grupo\n",
    "media_hombres = sueldos_hombres.mean()\n",
    "media_mujeres = sueldos_mujeres.mean()\n",
    "std_hombres = sueldos_hombres.std()\n",
    "std_mujeres = sueldos_mujeres.std()\n",
    "\n",
    "# Realizar la prueba t de dos muestras independientes\n",
    "t_stat, p_value = stats.ttest_ind(sueldos_hombres, sueldos_mujeres, equal_var=False)\n",
    "\n",
    "(media_hombres, std_hombres), (media_mujeres, std_mujeres), t_stat, p_value"
   ],
   "id": "b9a91de76770b054",
   "outputs": [
    {
     "data": {
      "text/plain": [
       "((30105.17925925926, 28851.517975927964),\n",
       " (15847.935144609992, 15508.575960653854),\n",
       " 11.86459381795286,\n",
       " 2.7373648004575493e-30)"
      ]
     },
     "execution_count": 115,
     "metadata": {},
     "output_type": "execute_result"
    }
   ],
   "execution_count": 115
  },
  {
   "metadata": {
    "ExecuteTime": {
     "end_time": "2024-09-02T01:47:23.699526Z",
     "start_time": "2024-09-02T01:47:23.571147Z"
    }
   },
   "cell_type": "code",
   "source": [
    "# Crear un gráfico de caja para comparar los sueldos entre hombres y mujeres\n",
    "plt.figure(figsize=(10, 6))\n",
    "sns.boxplot(x='male', y='earn', data=data)\n",
    "plt.xticks([0, 1], ['Mujeres', 'Hombres'])\n",
    "plt.ylabel('Sueldos')\n",
    "plt.xlabel('Género')\n",
    "plt.title('Distribución de Sueldos por Género')\n",
    "\n",
    "# Mostrar el gráfico\n",
    "plt.show()"
   ],
   "id": "32c20af13fe2d977",
   "outputs": [
    {
     "data": {
      "text/plain": [
       "<Figure size 1000x600 with 1 Axes>"
      ],
      "image/png": "[encoded data removed]"
     },
     "metadata": {},
     "output_type": "display_data"
    }
   ],
   "execution_count": 116
  },
  {
   "metadata": {},
   "cell_type": "markdown",
   "source": [
    "Interpretación:\n",
    "\n",
    "Dado el valor p extremadamente bajo (2.74e-30), que es mucho menor que el nivel de significancia $\\alpha$ = 0.05, rechazamos la hipótesis nula. Esto indica que existe una diferencia significativa en los sueldos promedio entre hombres y mujeres en el dataset.\n",
    "\n",
    "Conclusión:\n",
    "\n",
    "El análisis sugiere que el género influye significativamente en los sueldos de las personas en el dataset. En promedio, los hombres tienen sueldos significativamente más altos que las mujeres. Esta conclusión se basa en la gran diferencia en las medias y en el resultado de la prueba t de dos muestras independientes."
   ],
   "id": "f48eba13a7e5e0f4"
  }
 ],
 "metadata": {
  "kernelspec": {
   "display_name": "Python 3",
   "language": "python",
   "name": "python3"
  },
  "language_info": {
   "codemirror_mode": {
    "name": "ipython",
    "version": 2
   },
   "file_extension": ".py",
   "mimetype": "text/x-python",
   "name": "python",
   "nbconvert_exporter": "python",
   "pygments_lexer": "ipython2",
   "version": "2.7.6"
  }
 },
 "nbformat": 4,
 "nbformat_minor": 5
}
